{
 "cells": [
  {
   "cell_type": "markdown",
   "metadata": {},
   "source": [
    "## 데이터셋 준비하기"
   ]
  },
  {
   "cell_type": "code",
   "execution_count": 1,
   "metadata": {},
   "outputs": [
    {
     "name": "stderr",
     "output_type": "stream",
     "text": [
      "<__array_function__ internals>:5: VisibleDeprecationWarning: Creating an ndarray from ragged nested sequences (which is a list-or-tuple of lists-or-tuples-or ndarrays with different lengths or shapes) is deprecated. If you meant to do this, you must specify 'dtype=object' when creating the ndarray\n",
      "D:\\anaconda\\lib\\site-packages\\tensorflow\\python\\keras\\datasets\\imdb.py:159: VisibleDeprecationWarning: Creating an ndarray from ragged nested sequences (which is a list-or-tuple of lists-or-tuples-or ndarrays with different lengths or shapes) is deprecated. If you meant to do this, you must specify 'dtype=object' when creating the ndarray\n",
      "  x_train, y_train = np.array(xs[:idx]), np.array(labels[:idx])\n",
      "D:\\anaconda\\lib\\site-packages\\tensorflow\\python\\keras\\datasets\\imdb.py:160: VisibleDeprecationWarning: Creating an ndarray from ragged nested sequences (which is a list-or-tuple of lists-or-tuples-or ndarrays with different lengths or shapes) is deprecated. If you meant to do this, you must specify 'dtype=object' when creating the ndarray\n",
      "  x_test, y_test = np.array(xs[idx:]), np.array(labels[idx:])\n"
     ]
    }
   ],
   "source": [
    "from tensorflow.keras.datasets import imdb\n",
    "\n",
    "num_words = 10000\n",
    "(X_train, y_train), (X_test, y_test) = imdb.load_data(num_words=num_words)\n",
    "\n",
    "from tensorflow.keras.preprocessing.sequence import pad_sequences\n",
    "\n",
    "max_len = 500\n",
    "\n",
    "pad_X_train = pad_sequences(X_train, maxlen=max_len)\n",
    "pad_X_test = pad_sequences(X_test, maxlen=max_len)"
   ]
  },
  {
   "cell_type": "markdown",
   "metadata": {},
   "source": [
    "## 모델 구성하기 - Conv1D"
   ]
  },
  {
   "cell_type": "code",
   "execution_count": 2,
   "metadata": {},
   "outputs": [],
   "source": [
    "from tensorflow.keras.models import Sequential\n",
    "from tensorflow.keras.layers import Dense, Embedding, Conv1D, MaxPooling1D, GlobalMaxPooling1D\n",
    "\n",
    "model = Sequential()\n",
    "# 이 층은 모델의 제일 첫 번째 층으로만 사용할 수 있습니다.\n",
    "# Flatten 층을 사용하기 위해 input_length를 전달합니다.\n",
    "model.add(Embedding(input_dim = num_words, output_dim = 32, input_length = max_len))\n",
    "\n",
    "model.add(Conv1D(32, 7, activation = 'relu'))\n",
    "model.add(MaxPooling1D(7))\n",
    "\n",
    "model.add(Conv1D(32, 5, activation = 'relu'))\n",
    "model.add(MaxPooling1D(5))\n",
    "\n",
    "model.add(GlobalMaxPooling1D())\n",
    "model.add(Dense(1, activation = 'sigmoid'))\n",
    "\n",
    "model.compile(optimizer='adam',\n",
    "             loss = 'binary_crossentropy',\n",
    "             metrics = ['acc'])"
   ]
  },
  {
   "cell_type": "markdown",
   "metadata": {},
   "source": [
    "## 모델 학습시키기"
   ]
  },
  {
   "cell_type": "code",
   "execution_count": null,
   "metadata": {},
   "outputs": [
    {
     "name": "stdout",
     "output_type": "stream",
     "text": [
      "Epoch 1/30\n",
      "625/625 [==============================] - 10s 15ms/step - loss: 0.5804 - acc: 0.6553 - val_loss: 0.3128 - val_acc: 0.8680\n",
      "Epoch 2/30\n",
      "625/625 [==============================] - 9s 14ms/step - loss: 0.2277 - acc: 0.9122 - val_loss: 0.3147 - val_acc: 0.8734\n",
      "Epoch 3/30\n",
      "625/625 [==============================] - 9s 14ms/step - loss: 0.1245 - acc: 0.9603 - val_loss: 0.3754 - val_acc: 0.8680\n",
      "Epoch 4/30\n",
      "625/625 [==============================] - 9s 14ms/step - loss: 0.0569 - acc: 0.9841 - val_loss: 0.4825 - val_acc: 0.8608\n",
      "Epoch 5/30\n",
      "625/625 [==============================] - 9s 15ms/step - loss: 0.0190 - acc: 0.9969 - val_loss: 0.6363 - val_acc: 0.8624\n",
      "Epoch 6/30\n",
      "625/625 [==============================] - 9s 15ms/step - loss: 0.0058 - acc: 0.9998 - val_loss: 0.7216 - val_acc: 0.8594\n",
      "Epoch 7/30\n",
      "625/625 [==============================] - 9s 15ms/step - loss: 0.0021 - acc: 0.9998 - val_loss: 0.7559 - val_acc: 0.8642\n",
      "Epoch 8/30\n",
      "625/625 [==============================] - 10s 16ms/step - loss: 6.2350e-04 - acc: 1.0000 - val_loss: 0.8155 - val_acc: 0.8598\n",
      "Epoch 9/30\n",
      "625/625 [==============================] - 10s 15ms/step - loss: 9.8960e-04 - acc: 0.9998 - val_loss: 0.8606 - val_acc: 0.8592\n",
      "Epoch 10/30\n",
      "625/625 [==============================] - 9s 14ms/step - loss: 3.2908e-04 - acc: 1.0000 - val_loss: 0.9235 - val_acc: 0.8602\n",
      "Epoch 11/30\n",
      "625/625 [==============================] - 9s 15ms/step - loss: 3.1331e-04 - acc: 1.0000 - val_loss: 0.9654 - val_acc: 0.8596\n",
      "Epoch 12/30\n",
      "625/625 [==============================] - 9s 14ms/step - loss: 1.5327e-04 - acc: 1.0000 - val_loss: 1.0060 - val_acc: 0.8594\n",
      "Epoch 13/30\n",
      "  1/625 [..............................] - ETA: 8s - loss: 2.7724e-05 - acc: 1.0000"
     ]
    }
   ],
   "source": [
    "history = model.fit(pad_X_train, y_train, \n",
    "                    batch_size = 32, epochs = 30, \n",
    "                    validation_split = 0.2)"
   ]
  },
  {
   "cell_type": "markdown",
   "metadata": {},
   "source": [
    "## 결과 그리기"
   ]
  },
  {
   "cell_type": "code",
   "execution_count": null,
   "metadata": {},
   "outputs": [],
   "source": [
    "import matplotlib.pyplot as plt\n",
    "\n",
    "his_dict = history.history\n",
    "loss = his_dict['loss']\n",
    "val_loss = his_dict['val_loss'] \n",
    "\n",
    "epochs = range(1, len(loss) + 1)\n",
    "fig = plt.figure(figsize = (10, 5))\n",
    "\n",
    "# 훈련 및 검증 손실 그리기\n",
    "ax1 = fig.add_subplot(1, 2, 1)\n",
    "ax1.plot(epochs, loss, color = 'blue', label = 'train_loss')\n",
    "ax1.plot(epochs, val_loss, color = 'orange', label = 'val_loss')\n",
    "ax1.set_title('train and val loss')\n",
    "ax1.set_xlabel('epochs')\n",
    "ax1.set_ylabel('loss')\n",
    "ax1.legend()\n",
    "\n",
    "acc = his_dict['acc']\n",
    "val_acc = his_dict['val_acc']\n",
    "\n",
    "# 훈련 및 검증 정확도 그리기\n",
    "ax2 = fig.add_subplot(1, 2, 2)\n",
    "ax2.plot(epochs, acc, color = 'blue', label = 'train_acc')\n",
    "ax2.plot(epochs, val_acc, color = 'orange', label = 'val_acc')\n",
    "ax2.set_title('train and val acc')\n",
    "ax2.set_xlabel('epochs')\n",
    "ax2.set_ylabel('acc')\n",
    "ax2.legend()\n",
    "\n",
    "plt.show()"
   ]
  },
  {
   "cell_type": "markdown",
   "metadata": {},
   "source": [
    "## 모델 구성하기 - Conv1D + LSTM"
   ]
  },
  {
   "cell_type": "code",
   "execution_count": null,
   "metadata": {},
   "outputs": [],
   "source": [
    "import numpy as np\n",
    "import matplotlib.pyplot as plt\n",
    "\n",
    "np.random.seed(2020)\n",
    "\n",
    "time = np.arange(30 * 12 + 1)\n",
    "month_time = (time % 30) / 30\n",
    "time_series = 20 * np.where(month_time < 0.5, \n",
    "                          np.cos(2 * np.pi * month_time),\n",
    "                          np.cos(2 * np.pi * month_time) + np.random.random(361))\n",
    "\n",
    "def make_sequence(time_series, n):\n",
    "    x_train, y_train = list(), list()\n",
    "    \n",
    "    for i in range(len(time_series)):\n",
    "        x = time_series[i:(i + n)]\n",
    "        if (i + n) < len(time_series):\n",
    "            x_train.append(x)\n",
    "            y_train.append(time_series[i + n])\n",
    "        else:\n",
    "            break\n",
    "            \n",
    "    return np.array(x_train), np.array(y_train)\n",
    "\n",
    "n = 10\n",
    "x_train, y_train = make_sequence(time_series, n)\n",
    "\n",
    "x_train = x_train.reshape(-1, n, 1)\n",
    "y_train = y_train.reshape(-1, 1)\n",
    "\n",
    "from sklearn.model_selection import train_test_split\n",
    "\n",
    "patial_x_train = x_train[:30 * 11]\n",
    "patial_y_train = y_train[:30 * 11]\n",
    "x_test = x_train[30 * 11:]\n",
    "y_test = y_train[30 * 11:]\n",
    "\n",
    "print('train:', patial_x_train.shape, patial_y_train.shape) \n",
    "print('test:',x_test.shape, y_test.shape)"
   ]
  },
  {
   "cell_type": "code",
   "execution_count": null,
   "metadata": {
    "scrolled": true
   },
   "outputs": [],
   "source": [
    "from tensorflow.keras.models import Sequential\n",
    "from tensorflow.keras.layers import Dense, Embedding, Conv1D, MaxPooling1D, GlobalMaxPooling1D\n",
    "from tensorflow.keras.layers import LSTM\n",
    "\n",
    "model = Sequential()\n",
    "model.add(Conv1D(32, 3, activation = 'relu', input_shape = (10, 1)))\n",
    "model.add(MaxPooling1D(2))\n",
    "model.add(Conv1D(32, 3, activation = 'relu'))\n",
    "\n",
    "# LSTM을 혼합하여 모델을 구성합니다.\n",
    "model.add(LSTM(32, dropout = 0.2, recurrent_dropout = 0.2))\n",
    "model.add(Dense(1))\n",
    "\n",
    "model.compile(optimizer='adam',\n",
    "             loss = 'mse',\n",
    "             metrics = ['mse'])\n",
    "\n",
    "# 학습을 진행합니다.\n",
    "model.fit(x_train, y_train, epochs = 200, batch_size = 32)\n",
    "\n",
    "pred = model.predict(x_test)"
   ]
  },
  {
   "cell_type": "code",
   "execution_count": null,
   "metadata": {},
   "outputs": [],
   "source": [
    "# 결괏값을 그립니다\n",
    "train_range = np.arange(len(x_train) + 1)\n",
    "pred_range = np.arange(len(y_train), len(y_train) + len(pred))\n",
    "\n",
    "plt.figure(figsize=(15,5))\n",
    "plt.title('Prediction')\n",
    "plt.xlabel('Time')\n",
    "plt.ylabel('Value')\n",
    "plt.plot(train_range, np.append(y_train, y_test[0]), color = 'black')\n",
    "plt.plot(pred_range, y_test, color='orange', label='ground-truth')\n",
    "plt.plot(pred_range, pred, color='blue', label='prediction')\n",
    "plt.legend()\n",
    "plt.show()"
   ]
  }
 ],
 "metadata": {
  "kernelspec": {
   "display_name": "Python 3",
   "language": "python",
   "name": "python3"
  },
  "language_info": {
   "codemirror_mode": {
    "name": "ipython",
    "version": 3
   },
   "file_extension": ".py",
   "mimetype": "text/x-python",
   "name": "python",
   "nbconvert_exporter": "python",
   "pygments_lexer": "ipython3",
   "version": "3.8.5"
  }
 },
 "nbformat": 4,
 "nbformat_minor": 2
}
