{
 "cells": [
  {
   "cell_type": "markdown",
   "metadata": {},
   "source": [
    "# 앙상블 모델"
   ]
  },
  {
   "cell_type": "code",
   "execution_count": null,
   "metadata": {},
   "outputs": [],
   "source": [
    "# 연산 처리를 위한 패키지\n",
    "import numpy as np\n",
    "import pandas as pd\n",
    "\n",
    "# 데이터 분석을 위한 패키지\n",
    "from sklearn.ensemble import BaggingClassifier\n",
    "from sklearn.model_selection import GridSearchCV\n",
    "from sklearn.metrics import accuracy_score\n",
    "from sklearn.model_selection import cross_val_score, cross_validate\n",
    "\n",
    "# 시각화를 위한 패키지\n",
    "from matplotlib import pyplot as plt\n",
    "import seaborn as sns\n",
    "\n",
    "# 그래프를 실제로 그리기 위한 설정\n",
    "%matplotlib inline\n",
    "\n",
    "# 경고 메세지 무시\n",
    "import warnings\n",
    "warnings.filterwarnings('ignore')\n",
    "\n",
    "df = pd.read_csv('./data/classification/df_titanic.csv')\n",
    "df.head()"
   ]
  },
  {
   "cell_type": "code",
   "execution_count": null,
   "metadata": {},
   "outputs": [],
   "source": [
    "grid_learn = [0.0001, 0.001, 0.01, 0.03, 0.05, 0.1, 0.2, 0.25, 0.5, 1.0]\n",
    "grid_n_estimator = [10, 50, 100, 300, 500]\n",
    "grid_ratio = [0.1, 0.25, 0.5, 0.75, 1.0]\n",
    "grid_max_features = [0.3, 0.5, 0.7, 1.0]\n",
    "grid_max_depth = [1, 2, 4, 8]\n",
    "grid_min_samples_leaf = [1, 2, 3, 10, 100, 1500]\n",
    "grid_min_samples_split = [2, 4, 8, 16, 24, 30]\n",
    "grid_seed = [0]"
   ]
  },
  {
   "cell_type": "markdown",
   "metadata": {},
   "source": [
    "## 배깅(Bagging)"
   ]
  },
  {
   "cell_type": "code",
   "execution_count": null,
   "metadata": {},
   "outputs": [],
   "source": [
    "feature_columns = (df.columns.difference(['Survived']))\n",
    "\n",
    "X = df[feature_columns]\n",
    "y = df['Survived']\n",
    "\n",
    "# Bagging - 파라미터 튜닝 없이\n",
    "scores = cross_val_score(BaggingClassifier(random_state=0), X, y, scoring='accuracy', cv=5)\n",
    "print(\"Bagging 평균 정확도:\", np.round(np.mean(scores),4))"
   ]
  },
  {
   "cell_type": "markdown",
   "metadata": {},
   "source": [
    "- cross_val_score()\n",
    "    - 해당 함수 내부에서 학습(fit), 예측(predict), 평가(evaluation) 그리고 교차 검증을 수행해줍니다."
   ]
  },
  {
   "cell_type": "code",
   "execution_count": null,
   "metadata": {},
   "outputs": [],
   "source": [
    "scores = cross_validate(BaggingClassifier(random_state=0), X, y, scoring=['accuracy', 'roc_auc'], return_train_score=True, cv=5)\n",
    "np.transpose(pd.DataFrame(scores))"
   ]
  },
  {
   "cell_type": "code",
   "execution_count": null,
   "metadata": {},
   "outputs": [],
   "source": [
    "print(\"Bagging train 평균 정확도:\", np.round(np.mean(scores['train_accuracy']),4))\n",
    "print(\"Bagging test 평균 정확도:\", np.round(np.mean(scores['test_accuracy']),4))"
   ]
  },
  {
   "cell_type": "markdown",
   "metadata": {},
   "source": [
    "- cross_validate() 함수\n",
    "    - 각 폴드에서 훈련과 테스트에 걸린 시간을 확인 할 수 있습니다.\n",
    "    - 훈련(train) 점수, 테스트(test) 점수를 함께 볼 수 있습니다. "
   ]
  },
  {
   "cell_type": "markdown",
   "metadata": {},
   "source": [
    "### 하이퍼 파라미터\n",
    "- 디폴트(default) 설정\n",
    "```python\n",
    "BaggingClassifier(\n",
    "    base_estimator=None,\n",
    "    n_estimators=10,\n",
    "    max_samples=1.0,\n",
    "    max_features=1.0,\n",
    "    bootstrap=True,\n",
    "    bootstrap_features=False,\n",
    "    oob_score=False,\n",
    "    warm_start=False,\n",
    "    n_jobs=None,\n",
    "    random_state=None,\n",
    "    verbose=0,\n",
    ")\n",
    "```\n",
    "- base_estimator: 예측할 모델, 디폴트는 decision tree\n",
    "- n_estimators: 모형의 갯수\n",
    "- max_samples: 각각의 예측기가 X에서 추출 할 샘플의 수 \n",
    "- max_features: 각각의 예측기가 X에서 가져갈 컬럼의 수\n",
    "- bootstrap: 데이터 중복 여부, 디폴트는 True"
   ]
  },
  {
   "cell_type": "markdown",
   "metadata": {},
   "source": [
    "### 배깅 - GridSearchCV 를 활용한 최적의 파라미터 찾기"
   ]
  },
  {
   "cell_type": "code",
   "execution_count": null,
   "metadata": {},
   "outputs": [],
   "source": [
    "bc_param = {\n",
    "    'n_estimators': grid_n_estimator,  # default=10\n",
    "    'max_samples': grid_ratio,  # default=1.0\n",
    "    'random_state': grid_seed,\n",
    "    'max_features': grid_max_features,\n",
    "}\n",
    "\n",
    "# n_jobs = -1 학습시 모든 CPU 코어 사용\n",
    "grid_bc = GridSearchCV(BaggingClassifier(), param_grid=bc_param, \n",
    "                       return_train_score=True, n_jobs = -1, \n",
    "                       cv=5, scoring='accuracy')\n",
    "grid_bc.fit(X, y)"
   ]
  },
  {
   "cell_type": "code",
   "execution_count": null,
   "metadata": {},
   "outputs": [],
   "source": [
    "BaggingClassifier?"
   ]
  },
  {
   "cell_type": "code",
   "execution_count": null,
   "metadata": {},
   "outputs": [],
   "source": [
    "df_grid_bc = pd.DataFrame(grid_bc.cv_results_)\n",
    "df_grid_bc[['param_n_estimators', 'param_max_samples','params', \n",
    "            'mean_train_score', 'mean_test_score', \n",
    "            'rank_test_score']].sort_values(['rank_test_score']).head(5)"
   ]
  },
  {
   "cell_type": "code",
   "execution_count": null,
   "metadata": {},
   "outputs": [],
   "source": [
    "print(\"최고 Score: \", str(np.round(grid_bc.best_score_ ,4)))\n",
    "print(\"최적의 Parameters: \",str(grid_bc.best_params_))\n",
    "print(\"최적의 Estimators: \",str(grid_bc.best_estimator_))"
   ]
  },
  {
   "cell_type": "code",
   "execution_count": null,
   "metadata": {},
   "outputs": [],
   "source": [
    "# 최적의 설정값 입력\n",
    "best_grid_bc = grid_bc.best_estimator_\n",
    "best_grid_bc.fit(X, y)\n",
    "\n",
    "pred_bc = best_grid_bc.predict(X)\n",
    "accuracy_bc = accuracy_score(y, pred_bc)\n",
    "print(np.round(accuracy_bc,4))"
   ]
  },
  {
   "cell_type": "markdown",
   "metadata": {},
   "source": [
    "## 랜덤 포레스트"
   ]
  },
  {
   "cell_type": "code",
   "execution_count": null,
   "metadata": {},
   "outputs": [],
   "source": [
    "from sklearn.ensemble import RandomForestClassifier\n",
    "\n",
    "# Random forest - 파라미터 튜닝 없이\n",
    "scores = cross_validate(RandomForestClassifier(random_state=0), X, y, \n",
    "                        scoring=['accuracy', 'roc_auc'], \n",
    "                        return_train_score=True, cv=5)\n",
    "np.transpose(pd.DataFrame(scores))"
   ]
  },
  {
   "cell_type": "code",
   "execution_count": null,
   "metadata": {},
   "outputs": [],
   "source": [
    "print(\"Random forest train 평균 정확도:\", np.round(np.mean(scores['train_accuracy']),4))\n",
    "print(\"Random forest test 평균 정확도:\", np.round(np.mean(scores['test_accuracy']),4))"
   ]
  },
  {
   "cell_type": "markdown",
   "metadata": {},
   "source": [
    "### 하이퍼 파라미터"
   ]
  },
  {
   "cell_type": "code",
   "execution_count": null,
   "metadata": {},
   "outputs": [],
   "source": [
    "RandomForestClassifier?"
   ]
  },
  {
   "cell_type": "markdown",
   "metadata": {},
   "source": [
    "### 랜덤 포레스트 - GridSearchCV 를 활용한 최적의 파라미터 찾기"
   ]
  },
  {
   "cell_type": "code",
   "execution_count": null,
   "metadata": {},
   "outputs": [],
   "source": [
    "rf_param = {\n",
    "    'n_estimators': grid_n_estimator,\n",
    "    'random_state': grid_seed,\n",
    "    'max_depth': grid_max_depth,\n",
    "    'min_samples_leaf': grid_min_samples_leaf,\n",
    "    'min_samples_split': grid_min_samples_split\n",
    "}\n",
    "\n",
    "# n_jobs = -1 학습시 모든 CPU 코어 사용\n",
    "grid_rf = GridSearchCV(RandomForestClassifier(random_state=0), param_grid=rf_param, \n",
    "                       return_train_score=True,n_jobs=-1, cv=5, scoring='accuracy')\n",
    "grid_rf.fit(X, y)"
   ]
  },
  {
   "cell_type": "code",
   "execution_count": null,
   "metadata": {},
   "outputs": [],
   "source": [
    "df_grid_rf = pd.DataFrame(grid_rf.cv_results_)\n",
    "df_grid_rf[['params','mean_train_score','mean_test_score',\n",
    "            'rank_test_score']].sort_values(['rank_test_score']).head(5)"
   ]
  },
  {
   "cell_type": "code",
   "execution_count": null,
   "metadata": {},
   "outputs": [],
   "source": [
    "print(\"최고 Score: \", str(np.round(grid_rf.best_score_ ,4)))\n",
    "print(\"최적의 Parameters: \",str(grid_rf.best_params_))\n",
    "print(\"최적의 Estimators: \",str(grid_rf.best_estimator_))"
   ]
  },
  {
   "cell_type": "code",
   "execution_count": null,
   "metadata": {},
   "outputs": [],
   "source": [
    "# 최적의 설정값 입력\n",
    "best_grid_rf = grid_rf.best_estimator_\n",
    "best_grid_rf.fit(X, y)\n",
    "\n",
    "pred_rf = best_grid_rf.predict(X)\n",
    "accuracy_rf = accuracy_score(y, pred_rf)\n",
    "print(np.round(accuracy_rf,4))"
   ]
  },
  {
   "cell_type": "code",
   "execution_count": null,
   "metadata": {},
   "outputs": [],
   "source": [
    "# 가장 중요한 변수\n",
    "feature_names = list(X.columns)\n",
    "\n",
    "plt.title(\"RandomForest Feature importances for Survival\")\n",
    "sns.barplot(x=best_grid_rf.feature_importances_, y=feature_names)"
   ]
  },
  {
   "cell_type": "code",
   "execution_count": null,
   "metadata": {},
   "outputs": [],
   "source": []
  },
  {
   "cell_type": "markdown",
   "metadata": {},
   "source": [
    "## Boosting"
   ]
  },
  {
   "cell_type": "markdown",
   "metadata": {},
   "source": [
    "### AdaBoost"
   ]
  },
  {
   "cell_type": "code",
   "execution_count": null,
   "metadata": {},
   "outputs": [],
   "source": [
    "from sklearn.ensemble import AdaBoostClassifier\n",
    "\n",
    "# AdaBoost - 파라미터 튜닝 없이\n",
    "scores = cross_validate(AdaBoostClassifier(random_state=0), X, y, scoring=['accuracy', \n",
    "                                                                           'roc_auc'], return_train_score=True, cv=5)\n",
    "np.transpose(pd.DataFrame(scores))"
   ]
  },
  {
   "cell_type": "code",
   "execution_count": null,
   "metadata": {},
   "outputs": [],
   "source": [
    "print(\"Adaboost train 평균 정확도:\", np.round(np.mean(scores['train_accuracy']),4))\n",
    "print(\"Adaboost test 평균 정확도:\", np.round(np.mean(scores['test_accuracy']),4))"
   ]
  },
  {
   "cell_type": "markdown",
   "metadata": {},
   "source": [
    "#### 하이퍼 파라미터\n",
    "- 디폴트(default) 설정\n",
    "\n",
    "```python\n",
    "AdaBoostClassifier(\n",
    "    base_estimator=None,\n",
    "    n_estimators=50,\n",
    "    learning_rate=1.0,\n",
    "    algorithm='SAMME.R',\n",
    "    random_state=None,\n",
    ")\n",
    "```\n",
    "- base_estimator: 예측할 모델, 디폴트는 DecisionTreeClassifier(max_depth=1)\n",
    "- n_estimators: 모형(week learner)의 갯수, 순차적으로 오류를 보정해서 수가 많으면 성능이 일정 수준까지 높아 질 수 있으나 수행 시간이 오래 걸린다는 단점이 있음. 디폴트는 50\n",
    "- learning_rate: 학습률, 0~1 사이의 값을 지정. 너무 작은 값인 경우 최소점을 찾아 예측 성능이 높지만 학습에 오래 걸리고 너무 큰 값인 경우 최소점을 찾지 못해 예측 성능이 떨어질 확률이 높음. 그래서 n_estimators와 상호 호환 필요. 디폴트는 1.0"
   ]
  },
  {
   "cell_type": "code",
   "execution_count": null,
   "metadata": {},
   "outputs": [],
   "source": [
    "AdaBoostClassifier?"
   ]
  },
  {
   "cell_type": "markdown",
   "metadata": {},
   "source": [
    "#### AdaBoost - GridSearchCV 를 활용한 최적의 파라미터 찾기"
   ]
  },
  {
   "cell_type": "code",
   "execution_count": null,
   "metadata": {},
   "outputs": [],
   "source": [
    "ada_param = {\n",
    "            'n_estimators': grid_n_estimator, \n",
    "            'learning_rate': grid_learn, \n",
    "            'random_state': grid_seed\n",
    "}\n",
    "\n",
    "# n_jobs = -1 학습시 모든 CPU 코어 사용\n",
    "grid_ada = GridSearchCV(AdaBoostClassifier(), param_grid=ada_param, \n",
    "                        return_train_score=True, n_jobs = -1, \n",
    "                        cv=5, scoring='accuracy')\n",
    "grid_ada.fit(X, y)"
   ]
  },
  {
   "cell_type": "code",
   "execution_count": null,
   "metadata": {},
   "outputs": [],
   "source": [
    "df_grid_ada = pd.DataFrame(grid_ada.cv_results_)\n",
    "df_grid_ada[['param_learning_rate', 'param_n_estimators','params',\n",
    "             'mean_train_score','mean_test_score',\n",
    "             'rank_test_score']].sort_values(['rank_test_score']).head(5)"
   ]
  },
  {
   "cell_type": "code",
   "execution_count": null,
   "metadata": {},
   "outputs": [],
   "source": [
    "print(\"최고 Score: \", str(np.round(grid_ada.best_score_ ,4)))\n",
    "print(\"최적의 Parameters: \",str(grid_ada.best_params_))\n",
    "print(\"최적의 Estimators: \",str(grid_ada.best_estimator_))"
   ]
  },
  {
   "cell_type": "code",
   "execution_count": null,
   "metadata": {},
   "outputs": [],
   "source": [
    "# 최적의 설정값 입력\n",
    "best_grid_ada = grid_ada.best_estimator_\n",
    "best_grid_ada.fit(X, y)\n",
    "\n",
    "pred_ada = best_grid_ada.predict(X)\n",
    "accuracy_ada = accuracy_score(y, pred_ada)\n",
    "print(np.round(accuracy_ada,4))"
   ]
  },
  {
   "cell_type": "code",
   "execution_count": null,
   "metadata": {},
   "outputs": [],
   "source": [
    "# 가장 중요한 변수\n",
    "feature_names = list(X.columns)\n",
    "\n",
    "plt.title(\"AdaBoosting Feature importances for Survival\")\n",
    "sns.barplot(x=best_grid_ada.feature_importances_, y=feature_names)"
   ]
  },
  {
   "cell_type": "markdown",
   "metadata": {},
   "source": [
    "### GradientBoost"
   ]
  },
  {
   "cell_type": "code",
   "execution_count": null,
   "metadata": {},
   "outputs": [],
   "source": [
    "from sklearn.ensemble import GradientBoostingClassifier\n",
    "\n",
    "# GradientBoost - 파라미터 튜닝 없이\n",
    "scores = cross_validate(GradientBoostingClassifier(random_state=0), X, y, \n",
    "                        scoring=['accuracy', 'roc_auc'], \n",
    "                        return_train_score=True, cv=5)\n",
    "np.transpose(pd.DataFrame(scores))"
   ]
  },
  {
   "cell_type": "code",
   "execution_count": null,
   "metadata": {},
   "outputs": [],
   "source": [
    "print(\"GradientBoost train 평균 정확도:\", np.round(np.mean(scores['train_accuracy']),4))\n",
    "print(\"GradientBoost test 평균 정확도:\", np.round(np.mean(scores['test_accuracy']),4))"
   ]
  },
  {
   "cell_type": "code",
   "execution_count": null,
   "metadata": {},
   "outputs": [],
   "source": [
    "GradientBoostingClassifier?"
   ]
  },
  {
   "cell_type": "markdown",
   "metadata": {},
   "source": [
    "#### 하이퍼 파라미터\n",
    "- 디폴트(default) 설정\n",
    "\n",
    "```python\n",
    "GradientBoostingClassifier(\n",
    "    loss='deviance',\n",
    "    learning_rate=0.1,\n",
    "    n_estimators=100,\n",
    "    subsample=1.0,\n",
    "    criterion='friedman_mse',\n",
    "    min_samples_split=2,\n",
    "    min_samples_leaf=1,\n",
    "    min_weight_fraction_leaf=0.0,\n",
    "    max_depth=3,\n",
    "    min_impurity_decrease=0.0,\n",
    "    min_impurity_split=None,\n",
    "    init=None,\n",
    "    random_state=None,\n",
    "    max_features=None,\n",
    "    verbose=0,\n",
    "    max_leaf_nodes=None,\n",
    "    warm_start=False,\n",
    "    presort='auto',\n",
    "    validation_fraction=0.1,\n",
    "    n_iter_no_change=None,\n",
    "    tol=0.0001,\n",
    ")\n",
    "```\n",
    "- loss: 손실 함수(loss function), 디폴트는 'deviance'\n",
    "- base_estimator: 예측할 모델, 디폴트는 DecisionTreeClassifier(max_depth=1)\n",
    "- n_estimators: 모형(week learner)의 갯수, 순차적으로 오류를 보정해서 수가 많으면 성능이 일정 수준까지 높아 질 수 있으나 수행 시간이 오래 걸린다는 단점이 있음. 디폴트는 100\n",
    "- learning_rate: 학습률, 0~1 사이의 값을 지정. 너무 작은 값인 경우 최소점을 찾아 예측 성능이 높지만 학습에 오래 걸리고 너무 큰 값인 경우 최소점을 찾지 못해 예측 성능이 떨어질 확률이 높음. 그래서 n_estimators와 상호 호환 필요. 디폴트는 0.1\n",
    "- min_samples_leaf: 말단 리프 노드의 최소한의 샘플 데이터 수, 디폴트 1\n",
    "- max_depth: 트리의 최대 깊이, 디폴트 3\n",
    "- subsample: n_estimator 모형(week learner)이 학습에 사용하는 데이터의 샘플링 비율, 디폴트 1.0"
   ]
  },
  {
   "cell_type": "markdown",
   "metadata": {},
   "source": [
    "#### GradientBoost - GridSearchCV 를 활용한 최적의 파라미터 찾기"
   ]
  },
  {
   "cell_type": "code",
   "execution_count": null,
   "metadata": {},
   "outputs": [],
   "source": [
    "gd_param = {\n",
    "    'n_estimators': grid_n_estimator,\n",
    "    'learning_rate': grid_learn,\n",
    "    'random_state': grid_seed,\n",
    "    'max_depth': grid_max_depth,  # default=3\n",
    "    'min_samples_leaf': grid_min_samples_leaf,\n",
    "}\n",
    "\n",
    "# n_jobs = -1 학습시 모든 CPU 코어 사용\n",
    "grid_gd = GridSearchCV(GradientBoostingClassifier(), param_grid=gd_param, return_train_score=True, \n",
    "                       n_jobs=-1, cv=5, scoring='accuracy')\n",
    "grid_gd.fit(X, y)"
   ]
  },
  {
   "cell_type": "markdown",
   "metadata": {},
   "source": [
    "- GradientBoost의 경우 학습을 최적화하기 위한 파라미터가 GridSearchCV 학습이 오래 걸립니다. \n",
    "- 파라미터를 조금 조정해서 학습하는 것도 방법"
   ]
  },
  {
   "cell_type": "code",
   "execution_count": null,
   "metadata": {},
   "outputs": [],
   "source": [
    "df_grid_gd = pd.DataFrame(grid_gd.cv_results_)\n",
    "df_grid_gd[['param_learning_rate', 'param_n_estimators','params',\n",
    "            'mean_train_score','mean_test_score',\n",
    "            'rank_test_score']].sort_values(['rank_test_score']).head(5)"
   ]
  },
  {
   "cell_type": "code",
   "execution_count": null,
   "metadata": {},
   "outputs": [],
   "source": [
    "print(\"최고 Score: \", str(np.round(grid_gd.best_score_ ,4)))\n",
    "print(\"최적의 Parameters: \",str(grid_gd.best_params_))\n",
    "print(\"최적의 Estimators: \",str(grid_gd.best_estimator_))"
   ]
  },
  {
   "cell_type": "code",
   "execution_count": null,
   "metadata": {},
   "outputs": [],
   "source": [
    "# 최적의 설정값 입력\n",
    "best_grid_gd = grid_gd.best_estimator_\n",
    "best_grid_gd.fit(X, y)\n",
    "\n",
    "pred_gd = best_grid_gd.predict(X)\n",
    "accuracy_gd = accuracy_score(y, pred_gd)\n",
    "print(np.round(accuracy_gd,4))"
   ]
  },
  {
   "cell_type": "code",
   "execution_count": null,
   "metadata": {},
   "outputs": [],
   "source": [
    "# 가장 중요한 변수\n",
    "feature_names = list(X.columns)\n",
    "\n",
    "plt.title(\"GradientBoosting Feature importances for Survival\")\n",
    "sns.barplot(x=best_grid_gd.feature_importances_, y=feature_names)"
   ]
  },
  {
   "cell_type": "markdown",
   "metadata": {},
   "source": [
    "# 분류 모형의 평가와 비교"
   ]
  },
  {
   "cell_type": "markdown",
   "metadata": {},
   "source": [
    "## Confusion matrix"
   ]
  },
  {
   "cell_type": "code",
   "execution_count": null,
   "metadata": {},
   "outputs": [],
   "source": [
    "from sklearn.metrics import confusion_matrix, classification_report\n",
    "\n",
    "confusion_matrix(y, pred_rf, labels=[1,0])"
   ]
  },
  {
   "cell_type": "markdown",
   "metadata": {},
   "source": [
    "- True Positive(TP)  | False Negative(FN)\n",
    "- False Positive(FP) | True Negative(TN)\n",
    "- TP: 생존을 생존이라고 정확히 예측\n",
    "- TN: 생존이 아닌것을 생존이 아니라고 정확히 예측\n",
    "- FP: 생존을 생존이 아니라고 잘못 예측\n",
    "- FN: 생존이 아닌 것을 생존이라고 잘못 예측\n"
   ]
  },
  {
   "cell_type": "code",
   "execution_count": null,
   "metadata": {},
   "outputs": [],
   "source": [
    "Confusion_Matrix = pd.crosstab(y, pred_rf, rownames=['Observed'], colnames=['Predicted'])\n",
    "Confusion_Matrix = Confusion_Matrix[[1,0]]\n",
    "Confusion_Matrix = Confusion_Matrix.reindex(index =[1,0])\n",
    "Confusion_Matrix"
   ]
  },
  {
   "cell_type": "code",
   "execution_count": null,
   "metadata": {},
   "outputs": [],
   "source": [
    "sns.heatmap(Confusion_Matrix, annot=True, cmap = 'YlGnBu', fmt = 'd', annot_kws={\"size\":20})\n",
    "plt.show()"
   ]
  },
  {
   "cell_type": "markdown",
   "metadata": {},
   "source": [
    "## Classification_report(정밀도, 재현율, F1 스코어)"
   ]
  },
  {
   "cell_type": "markdown",
   "metadata": {},
   "source": [
    "- Total = TP + FP + FN + TN \n",
    "- Accuracy(정확도): (TP + TN) / Total\n",
    "- Recall(재현율): TP / (TP + FN)\n",
    "- Precision(정밀도): TP / (TP + FP)\n",
    "- F1-score: 2 * Precision * Recall / (Precision + Recall)\n"
   ]
  },
  {
   "cell_type": "code",
   "execution_count": null,
   "metadata": {},
   "outputs": [],
   "source": [
    "total = 330 + 47 + 85 + 581\n",
    "accuracy = (330 + 581) / total\n",
    "recall = 330 / (330 + 85)\n",
    "precision = 330 / (330 + 47)\n",
    "f1_score = 2 * precision * recall / (precision + recall)\n",
    "\n",
    "print(\"accuracy =\", np.round((accuracy),2))\n",
    "print(\"recall =\", np.round((recall),2))\n",
    "print(\"precision =\", np.round((precision),2))\n",
    "print(\"f1_score =\", np.round((f1_score),2))"
   ]
  },
  {
   "cell_type": "code",
   "execution_count": null,
   "metadata": {},
   "outputs": [],
   "source": [
    "print(classification_report(y, pred_rf, target_names=['Survived 0','Survived 1']))"
   ]
  },
  {
   "cell_type": "markdown",
   "metadata": {},
   "source": [
    "## ROC/AUC Curve\n",
    "- https://www.scikit-yb.org/en/latest/api/classifier/rocauc.html"
   ]
  },
  {
   "cell_type": "code",
   "execution_count": null,
   "metadata": {},
   "outputs": [],
   "source": [
    "from yellowbrick.classifier import ROCAUC\n",
    "\n",
    "visualizer = ROCAUC(best_grid_rf, classes=[0, 1])\n",
    "visualizer.fit(X, y)   \n",
    "visualizer.score(X, y) \n",
    "visualizer.show()    "
   ]
  },
  {
   "cell_type": "code",
   "execution_count": null,
   "metadata": {},
   "outputs": [],
   "source": [
    "visualizer = ROCAUC(best_grid_gd, classes=[0, 1])\n",
    "visualizer.fit(X, y)\n",
    "visualizer.score(X, y)\n",
    "visualizer.show()"
   ]
  },
  {
   "cell_type": "code",
   "execution_count": null,
   "metadata": {},
   "outputs": [],
   "source": [
    "visualizer = ROCAUC(best_grid_ada, classes=[0, 1])\n",
    "\n",
    "visualizer.fit(X, y)\n",
    "visualizer.score(X, y)\n",
    "visualizer.show()"
   ]
  }
 ],
 "metadata": {
  "kernelspec": {
   "display_name": "Python 3",
   "language": "python",
   "name": "python3"
  },
  "language_info": {
   "codemirror_mode": {
    "name": "ipython",
    "version": 3
   },
   "file_extension": ".py",
   "mimetype": "text/x-python",
   "name": "python",
   "nbconvert_exporter": "python",
   "pygments_lexer": "ipython3",
   "version": "3.8.5"
  },
  "toc": {
   "base_numbering": 1,
   "nav_menu": {},
   "number_sections": true,
   "sideBar": true,
   "skip_h1_title": false,
   "title_cell": "Table of Contents",
   "title_sidebar": "Contents",
   "toc_cell": false,
   "toc_position": {
    "height": "calc(100% - 180px)",
    "left": "10px",
    "top": "150px",
    "width": "206px"
   },
   "toc_section_display": true,
   "toc_window_display": true
  },
  "varInspector": {
   "cols": {
    "lenName": 16,
    "lenType": 16,
    "lenVar": 40
   },
   "kernels_config": {
    "python": {
     "delete_cmd_postfix": "",
     "delete_cmd_prefix": "del ",
     "library": "var_list.py",
     "varRefreshCmd": "print(var_dic_list())"
    },
    "r": {
     "delete_cmd_postfix": ") ",
     "delete_cmd_prefix": "rm(",
     "library": "var_list.r",
     "varRefreshCmd": "cat(var_dic_list()) "
    }
   },
   "types_to_exclude": [
    "module",
    "function",
    "builtin_function_or_method",
    "instance",
    "_Feature"
   ],
   "window_display": false
  }
 },
 "nbformat": 4,
 "nbformat_minor": 2
}
