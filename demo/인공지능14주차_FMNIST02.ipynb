{
 "cells": [
  {
   "cell_type": "markdown",
   "metadata": {
    "id": "Khb4cafb5-It"
   },
   "source": [
    "# 합성곱 신경망의 시각화"
   ]
  },
  {
   "cell_type": "markdown",
   "metadata": {
    "id": "gtBpMgcc5-I0"
   },
   "source": [
    "<table align=\"left\">\n",
    "  <td>\n",
    "    <a target=\"_blank\" href=\"https://colab.research.google.com/github/rickiepark/hg-mldl/blob/master/8-3.ipynb\"><img src=\"https://www.tensorflow.org/images/colab_logo_32px.png\" />구글 코랩에서 실행하기</a>\n",
    "  </td>\n",
    "</table>"
   ]
  },
  {
   "cell_type": "markdown",
   "metadata": {
    "id": "10YURv8s5-I0"
   },
   "source": [
    "## 가중치 시각화"
   ]
  },
  {
   "cell_type": "code",
   "execution_count": null,
   "metadata": {
    "id": "Q7Uqs_t65-I0"
   },
   "outputs": [],
   "source": [
    "from tensorflow import keras"
   ]
  },
  {
   "cell_type": "code",
   "execution_count": null,
   "metadata": {
    "id": "y6Fx0cai5-I1"
   },
   "outputs": [],
   "source": [
    "model = keras.models.load_model('best-cnn-model.h5')"
   ]
  },
  {
   "cell_type": "code",
   "execution_count": null,
   "metadata": {
    "colab": {
     "base_uri": "https://localhost:8080/"
    },
    "id": "tOhJnNvW5-I1",
    "outputId": "b369faa7-6228-48f8-a5b9-868b44018260",
    "scrolled": true
   },
   "outputs": [],
   "source": [
    "model.layers"
   ]
  },
  {
   "cell_type": "code",
   "execution_count": null,
   "metadata": {
    "colab": {
     "base_uri": "https://localhost:8080/"
    },
    "id": "7e-EMS_h5-I2",
    "outputId": "e89df68d-9f22-4023-ef56-f35e74eee09a",
    "scrolled": true
   },
   "outputs": [],
   "source": [
    "conv = model.layers[0]\n",
    "\n",
    "print(conv.weights[0].shape, conv.weights[1].shape)"
   ]
  },
  {
   "cell_type": "code",
   "execution_count": null,
   "metadata": {
    "colab": {
     "base_uri": "https://localhost:8080/"
    },
    "id": "D5WNlXS55-I3",
    "outputId": "318f9324-458f-47d9-b7a7-7591e7809ab2"
   },
   "outputs": [],
   "source": [
    "conv_weights = conv.weights[0].numpy()\n",
    "\n",
    "print(conv_weights.mean(), conv_weights.std())"
   ]
  },
  {
   "cell_type": "code",
   "execution_count": null,
   "metadata": {
    "id": "Mm_xATS95-I3"
   },
   "outputs": [],
   "source": [
    "import matplotlib.pyplot as plt"
   ]
  },
  {
   "cell_type": "code",
   "execution_count": null,
   "metadata": {
    "colab": {
     "base_uri": "https://localhost:8080/",
     "height": 300
    },
    "id": "lm37R-hD5-I3",
    "outputId": "9d09f4b2-2e08-4742-db47-1264b1acd091"
   },
   "outputs": [],
   "source": [
    "plt.hist(conv_weights.reshape(-1, 1))\n",
    "plt.xlabel('weight')\n",
    "plt.ylabel('count')\n",
    "plt.show()"
   ]
  },
  {
   "cell_type": "code",
   "execution_count": null,
   "metadata": {
    "colab": {
     "base_uri": "https://localhost:8080/",
     "height": 154
    },
    "id": "FBxjPV045-I4",
    "outputId": "7a2a0193-c680-4c5e-b3d0-1f79e3a27f08",
    "scrolled": true
   },
   "outputs": [],
   "source": [
    "fig, axs = plt.subplots(2, 16, figsize=(15,2))\n",
    "\n",
    "for i in range(2):\n",
    "    for j in range(16):\n",
    "        axs[i, j].imshow(conv_weights[:,:,0,i*16 + j], vmin=-0.5, vmax=0.5)\n",
    "        axs[i, j].axis('off')\n",
    "\n",
    "plt.show()"
   ]
  },
  {
   "cell_type": "code",
   "execution_count": null,
   "metadata": {
    "id": "P-r4Dx2N5-I4"
   },
   "outputs": [],
   "source": [
    "no_training_model = keras.Sequential()\n",
    "\n",
    "no_training_model.add(keras.layers.Conv2D(32, kernel_size=3, activation='relu', \n",
    "                                          padding='same', input_shape=(28,28,1)))"
   ]
  },
  {
   "cell_type": "code",
   "execution_count": null,
   "metadata": {
    "colab": {
     "base_uri": "https://localhost:8080/"
    },
    "id": "SRz0Z0z_5-I4",
    "outputId": "016cc068-0d75-4577-a1f2-4dccc0857ae4"
   },
   "outputs": [],
   "source": [
    "no_training_conv = no_training_model.layers[0]\n",
    "\n",
    "print(no_training_conv.weights[0].shape)"
   ]
  },
  {
   "cell_type": "code",
   "execution_count": null,
   "metadata": {
    "colab": {
     "base_uri": "https://localhost:8080/"
    },
    "id": "7FUqZL695-I4",
    "outputId": "2f53856e-2ae0-4ecc-c954-e82d18190bb5"
   },
   "outputs": [],
   "source": [
    "no_training_weights = no_training_conv.weights[0].numpy()\n",
    "\n",
    "print(no_training_weights.mean(), no_training_weights.std())"
   ]
  },
  {
   "cell_type": "code",
   "execution_count": null,
   "metadata": {
    "colab": {
     "base_uri": "https://localhost:8080/",
     "height": 300
    },
    "id": "DktjNm4Z5-I5",
    "outputId": "0ec7b38d-71a8-4685-c2e5-15763edd6930"
   },
   "outputs": [],
   "source": [
    "plt.hist(no_training_weights.reshape(-1, 1))\n",
    "plt.xlabel('weight')\n",
    "plt.ylabel('count')\n",
    "plt.show()"
   ]
  },
  {
   "cell_type": "code",
   "execution_count": null,
   "metadata": {
    "colab": {
     "base_uri": "https://localhost:8080/",
     "height": 154
    },
    "id": "b7QmwoUe5-I5",
    "outputId": "07301c47-8199-4009-da9c-4d7faa932226"
   },
   "outputs": [],
   "source": [
    "fig, axs = plt.subplots(2, 16, figsize=(15,2))\n",
    "\n",
    "for i in range(2):\n",
    "    for j in range(16):\n",
    "        axs[i, j].imshow(no_training_weights[:,:,0,i*16 + j], vmin=-0.5, vmax=0.5)\n",
    "        axs[i, j].axis('off')\n",
    "\n",
    "plt.show()"
   ]
  },
  {
   "cell_type": "markdown",
   "metadata": {
    "id": "GEc9KyP35-I6"
   },
   "source": [
    "## 함수형 API"
   ]
  },
  {
   "cell_type": "code",
   "execution_count": null,
   "metadata": {
    "colab": {
     "base_uri": "https://localhost:8080/"
    },
    "id": "RZ27RyZJ5-I6",
    "outputId": "c3576d89-8944-4d05-822a-0f7ca7435cc7"
   },
   "outputs": [],
   "source": [
    "print(model.input)"
   ]
  },
  {
   "cell_type": "code",
   "execution_count": null,
   "metadata": {
    "id": "FfHfv9w_5-I6"
   },
   "outputs": [],
   "source": [
    "conv_acti = keras.Model(model.input, model.layers[0].output)"
   ]
  },
  {
   "cell_type": "markdown",
   "metadata": {
    "id": "CF6JzHj-5-I6"
   },
   "source": [
    "## 특성 맵 시각화"
   ]
  },
  {
   "cell_type": "code",
   "execution_count": null,
   "metadata": {
    "colab": {
     "base_uri": "https://localhost:8080/"
    },
    "id": "TU5ENBPB5-I7",
    "outputId": "12905e9e-be54-4545-b358-88ac3fc36a80"
   },
   "outputs": [],
   "source": [
    "(train_input, train_target), (test_input, test_target) = keras.datasets.fashion_mnist.load_data()"
   ]
  },
  {
   "cell_type": "code",
   "execution_count": null,
   "metadata": {
    "colab": {
     "base_uri": "https://localhost:8080/",
     "height": 286
    },
    "id": "8-GBYsqm5-I7",
    "outputId": "4f33f17f-44da-4942-db17-3d04098a7be3"
   },
   "outputs": [],
   "source": [
    "plt.imshow(train_input[0], cmap='gray_r')\n",
    "plt.show()"
   ]
  },
  {
   "cell_type": "code",
   "execution_count": null,
   "metadata": {
    "id": "aJDrgyzo5-I7"
   },
   "outputs": [],
   "source": [
    "inputs = train_input[0:1].reshape(-1, 28, 28, 1)/255.0\n",
    "\n",
    "feature_maps = conv_acti.predict(inputs)"
   ]
  },
  {
   "cell_type": "code",
   "execution_count": null,
   "metadata": {
    "colab": {
     "base_uri": "https://localhost:8080/"
    },
    "id": "wYMHCQ0C5-I7",
    "outputId": "cdb57518-b327-42c8-d89a-65fb7743390d"
   },
   "outputs": [],
   "source": [
    "print(feature_maps.shape)"
   ]
  },
  {
   "cell_type": "code",
   "execution_count": null,
   "metadata": {
    "colab": {
     "base_uri": "https://localhost:8080/",
     "height": 480
    },
    "id": "n9hhqasw5-I7",
    "outputId": "51424ef8-3cd7-4f15-9ab3-9b11be284b42"
   },
   "outputs": [],
   "source": [
    "fig, axs = plt.subplots(4, 8, figsize=(15,8))\n",
    "\n",
    "for i in range(4):\n",
    "    for j in range(8):\n",
    "        axs[i, j].imshow(feature_maps[0,:,:,i*8 + j])\n",
    "        axs[i, j].axis('off')\n",
    "\n",
    "plt.show()"
   ]
  },
  {
   "cell_type": "code",
   "execution_count": null,
   "metadata": {
    "id": "RBCPiHm_5-I8"
   },
   "outputs": [],
   "source": [
    "conv2_acti = keras.Model(model.input, model.layers[2].output)"
   ]
  },
  {
   "cell_type": "code",
   "execution_count": null,
   "metadata": {
    "id": "n5U3pxZc5-I8"
   },
   "outputs": [],
   "source": [
    "feature_maps = conv2_acti.predict(train_input[0:1].reshape(-1, 28, 28, 1)/255.0)"
   ]
  },
  {
   "cell_type": "code",
   "execution_count": null,
   "metadata": {
    "colab": {
     "base_uri": "https://localhost:8080/"
    },
    "id": "9QcCxjOf5-I8",
    "outputId": "9830c21f-7847-4bb9-8abb-bfc9029e58c1"
   },
   "outputs": [],
   "source": [
    "print(feature_maps.shape)"
   ]
  },
  {
   "cell_type": "code",
   "execution_count": null,
   "metadata": {
    "colab": {
     "base_uri": "https://localhost:8080/",
     "height": 703
    },
    "id": "6xc2oG6D5-I8",
    "outputId": "d6db9279-0a24-4a19-c1d0-670f566a4ef7"
   },
   "outputs": [],
   "source": [
    "fig, axs = plt.subplots(8, 8, figsize=(12,12))\n",
    "\n",
    "for i in range(8):\n",
    "    for j in range(8):\n",
    "        axs[i, j].imshow(feature_maps[0,:,:,i*8 + j])\n",
    "        axs[i, j].axis('off')\n",
    "\n",
    "plt.show()"
   ]
  }
 ],
 "metadata": {
  "accelerator": "GPU",
  "colab": {
   "name": "8-3.ipynb",
   "provenance": []
  },
  "kernelspec": {
   "display_name": "Python 3",
   "language": "python",
   "name": "python3"
  },
  "language_info": {
   "codemirror_mode": {
    "name": "ipython",
    "version": 3
   },
   "file_extension": ".py",
   "mimetype": "text/x-python",
   "name": "python",
   "nbconvert_exporter": "python",
   "pygments_lexer": "ipython3",
   "version": "3.8.5"
  }
 },
 "nbformat": 4,
 "nbformat_minor": 1
}
